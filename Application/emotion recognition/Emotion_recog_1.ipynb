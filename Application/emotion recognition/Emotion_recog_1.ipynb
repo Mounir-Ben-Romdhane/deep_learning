{
 "cells": [
  {
   "cell_type": "code",
   "execution_count": 1,
   "id": "41d5452e",
   "metadata": {
    "colab": {
     "base_uri": "https://localhost:8080/",
     "height": 350
    },
    "executionInfo": {
     "elapsed": 727,
     "status": "error",
     "timestamp": 1624788306353,
     "user": {
      "displayName": "afef Debouba",
      "photoUrl": "https://lh3.googleusercontent.com/a-/AOh14Gg7CorxIuPW2SMgrKn579_pXfupSbOrByN6tKz8Ug=s64",
      "userId": "10663171592261754006"
     },
     "user_tz": -60
    },
    "id": "41d5452e",
    "outputId": "5f1c557c-b825-40fe-f2d0-bd0b641b421a"
   },
   "outputs": [],
   "source": [
    "import pandas as pd\n",
    "import cv2 #bib opencv open sourve computer vision\n",
    "import numpy as np\n",
    "import os\n",
    "from firebase.firebase import FirebaseApplication\n",
    "firebase=FirebaseApplication('https://tes-ai-d3b26-default-rtdb.firebaseio.com/',None)"
   ]
  },
  {
   "cell_type": "code",
   "execution_count": null,
   "id": "904e25a5",
   "metadata": {
    "colab": {
     "base_uri": "https://localhost:8080/",
     "height": 374
    },
    "executionInfo": {
     "elapsed": 3063,
     "status": "error",
     "timestamp": 1624788378797,
     "user": {
      "displayName": "afef Debouba",
      "photoUrl": "https://lh3.googleusercontent.com/a-/AOh14Gg7CorxIuPW2SMgrKn579_pXfupSbOrByN6tKz8Ug=s64",
      "userId": "10663171592261754006"
     },
     "user_tz": -60
    },
    "id": "904e25a5",
    "outputId": "3944f6c3-d30e-4b3f-ef0c-bb4bd4dc7b21"
   },
   "outputs": [],
   "source": [
    "\n",
    "from keras.preprocessing.image import img_to_array #Converts a PIL Image instance to a Numpy array.\n",
    "import imutils #make basic image processing functions such as translation, rotation, resizing, skeletonization isplaying Matplotlib images, sorting contours, detecting edges, and much more easier with OpenCV \n",
    "import cv2  #openCV \n",
    "from keras.models import load_model #loding the train model from keras\n",
    "import numpy as np\n",
    "\n",
    "# parameters for loading data and images\n",
    "detection_model_path = 'haarcascade_files/haarcascade_frontalface_default.xml' \n",
    "face_detection = cv2.CascadeClassifier(detection_model_path)\n",
    "#choose the detection model from HAARcascade(frontal face)\n",
    "\n",
    "\n",
    "emotion_model_path = 'models/_mini_XCEPTION.102-0.66.hdf5' #cnn simple Xception from Github\n",
    "\n",
    "# hyper-parameters for bounding boxes shape\n",
    "# loading models \n",
    "# to load a xml classifier\n",
    "emotion_classifier = load_model(emotion_model_path, compile=False) #emotion classifier with mini-Xception\n",
    "\n",
    "EMOTIONS = [\"angry\" ,\"disgust\",\"scared\", \"happy\", \"sad\", \"surprised\", \"neutral\"] #number of classes 7\n",
    "\n",
    "feelings_faces = [] #empty matrix\n",
    "for index, emotion in enumerate(EMOTIONS):\n",
    "    feelings_faces.append(cv2.imread('emojis/' + emotion + '.png', -1)) \n",
    "\n",
    "# starting video streaming\n",
    "cv2.namedWindow('Your_face')\n",
    "camera = cv2.VideoCapture(0)\n",
    "while True:\n",
    "    frame = camera.read()[1]\n",
    "    #reading the frame\n",
    "    frame = imutils.resize(frame,width=300) #resizing basic image processing\n",
    "    gray = cv2.cvtColor(frame, cv2.COLOR_BGR2GRAY) #convert to gray level\n",
    "    #to perform the detection:\n",
    "    faces = face_detection.detectMultiScale(gray,scaleFactor=1.1,minNeighbors=5,minSize=(30,30),flags=cv2.CASCADE_SCALE_IMAGE) #multi-échelle\n",
    "    #cv.CascadeClassifier.detectMultiScale(image[, scaleFactor[, minNeighbors[, flags[, minSize[, maxSize]]]]]\n",
    "    canvas = np.zeros((250, 300, 3), dtype=\"uint8\")  #matrix 3D of zeros \n",
    "    frameClone = frame.copy() #make frame copy\n",
    "    if len(faces) > 0: #faces multiscale \n",
    "        faces = sorted(faces, reverse=True, key=lambda x: (x[2] - x[0]) * (x[3] - x[1]))[0]\n",
    "        (fX, fY, fW, fH) = faces \n",
    "                    # Extract the ROI of the face from the grayscale image, resize it to a fixed 28x28 pixels, and then prepare\n",
    "            # the ROI for classification via the CNN\n",
    "        roi = gray[fY:fY + fH, fX:fX + fW]\n",
    "        roi = cv2.resize(roi, (64, 64))\n",
    "        roi = roi.astype(\"float\") / 255.0 #normalisation\n",
    "        roi = img_to_array(roi) #convert image to an array\n",
    "        roi = np.expand_dims(roi, axis=0) \n",
    "        \n",
    "        preds = emotion_classifier.predict(roi)[0] #prediction of emotions  \n",
    "        emotion_probability = np.max(preds) #max prediction as probability \n",
    "        label = EMOTIONS[preds.argmax()] #labels of 7 emotions \n",
    "    else: continue\n",
    "\n",
    " \n",
    "    for (i, (emotion, prob)) in enumerate(zip(EMOTIONS, preds)):\n",
    "                # construct the label text\n",
    "                text = \"{}: {:.2f}%\".format(emotion, prob * 100)\n",
    "\n",
    "                # draw the label + probability bar on the canvas\n",
    "               # emoji_face = feelings_faces[np.argmax(preds)]\n",
    "\n",
    "                \n",
    "                w = int(prob * 300) \n",
    "                cv2.rectangle(canvas, (7, (i * 35) + 5), (w, (i * 35) + 35), (0, 0, 255), -1)\n",
    "                cv2.putText(canvas, text, (10, (i * 35) + 23), cv2.FONT_HERSHEY_SIMPLEX, 0.45, (255, 255, 255), 2)\n",
    "                cv2.putText(frameClone, label, (fX, fY - 10),\n",
    "                cv2.FONT_HERSHEY_SIMPLEX, 0.45, (0, 0, 255), 2)\n",
    "                cv2.rectangle(frameClone, (fX, fY), (fX + fW, fY + fH), (0, 0, 255), 2)\n",
    "                firebase.put(\"acces\",emotion,prob*100)\n",
    "               # firebase.put(\"emo\",'EMOTIONS',prob*100)\n",
    "                \n",
    "               # firebase.put(\"emo\",'preds',prob)\n",
    "                #firebase.put('Emotions',emotion,preds)\n",
    "    #for c in range(0, 3):\n",
    "        #frame[200:320, 10:130, c] = emoji_face[:, :, c] * \\(emoji_face[:, :, 3] / 255.0) + frame[200:320,10:130, c] * (1.0 - emoji_face[:, :, 3] / 255.0)\n",
    "\n",
    "   \n",
    "    cv2.imshow('your_face',frameClone)\n",
    "    cv2.imshow(\"Probabilities\", canvas)\n",
    "    if cv2.waitKey(1) & 0xFF == ord('q'):\n",
    "        break\n",
    "\n",
    "camera.release() #open camera\n",
    "cv2.destroyAllWindows() #\n",
    "\n",
    "\n"
   ]
  },
  {
   "cell_type": "code",
   "execution_count": null,
   "id": "88db5fa7",
   "metadata": {
    "id": "88db5fa7"
   },
   "outputs": [],
   "source": []
  },
  {
   "cell_type": "code",
   "execution_count": null,
   "id": "e4817972",
   "metadata": {
    "id": "e4817972"
   },
   "outputs": [],
   "source": []
  },
  {
   "cell_type": "code",
   "execution_count": null,
   "id": "0d09a5de",
   "metadata": {
    "id": "0d09a5de"
   },
   "outputs": [],
   "source": []
  },
  {
   "cell_type": "code",
   "execution_count": null,
   "id": "69c9d065",
   "metadata": {
    "id": "69c9d065"
   },
   "outputs": [],
   "source": []
  }
 ],
 "metadata": {
  "colab": {
   "collapsed_sections": [],
   "name": "Emotion_recog_1.ipynb",
   "provenance": []
  },
  "kernelspec": {
   "display_name": "Python 3",
   "language": "python",
   "name": "python3"
  },
  "language_info": {
   "codemirror_mode": {
    "name": "ipython",
    "version": 3
   },
   "file_extension": ".py",
   "mimetype": "text/x-python",
   "name": "python",
   "nbconvert_exporter": "python",
   "pygments_lexer": "ipython3",
   "version": "3.8.8"
  }
 },
 "nbformat": 4,
 "nbformat_minor": 5
}
